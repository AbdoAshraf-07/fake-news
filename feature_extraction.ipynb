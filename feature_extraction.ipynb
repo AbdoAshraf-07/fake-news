
import pandas as pd
from sklearn.feature_extraction.text import TfidfVectorizer
import pickle

def extract_features():
    df = pd.read_csv('cleaned_data.csv')
    vectorizer = TfidfVectorizer(max_features=5000)
    X = vectorizer.fit_transform(df['text']).toarray()
    y = df['label']
    pickle.dump((X, y, vectorizer), open('features.pkl', 'wb'))
    print("Features extracted and saved to features.pkl")

# Run feature extraction
extract_features()
    