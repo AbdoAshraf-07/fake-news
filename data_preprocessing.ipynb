
import pandas as pd
import re
import nltk
from nltk.corpus import stopwords
from nltk.stem import WordNetLemmatizer

nltk.download('stopwords')
nltk.download('wordnet')

def clean_text(text):
    if isinstance(text, str):
        text = re.sub(r'\W', ' ', text)
        text = re.sub(r'\s+', ' ', text)
        text = text.lower()
        words = text.split()
        lemmatizer = WordNetLemmatizer()
        words = [lemmatizer.lemmatize(word) for word in words if word not in stopwords.words('english')]
        return ' '.join(words)
    return ""

def preprocess_data(file_path):
    df = pd.read_csv(file_path)
    df['text'] = df['text'].apply(clean_text)
    df.to_csv('cleaned_data.csv', index=False)
    print("Data cleaned and saved to cleaned_data.csv")

# Run preprocessing
preprocess_data("https://raw.githubusercontent.com/laxmimerit/fakenews/master/data.csv")
    