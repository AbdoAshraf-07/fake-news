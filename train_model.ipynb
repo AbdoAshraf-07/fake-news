
import pickle
from sklearn.model_selection import train_test_split
from sklearn.ensemble import RandomForestClassifier
from xgboost import XGBClassifier
import joblib

def train_models():
    X, y, _ = pickle.load(open('features.pkl', 'rb'))
    X_train, X_test, y_train, y_test = train_test_split(X, y, test_size=0.2, random_state=42)
    
    rf_model = RandomForestClassifier(n_estimators=100, random_state=42)
    rf_model.fit(X_train, y_train)
    joblib.dump(rf_model, 'random_forest_model.pkl')
    
    xgb_model = XGBClassifier(use_label_encoder=False, eval_metric='logloss')
    xgb_model.fit(X_train, y_train)
    joblib.dump(xgb_model, 'xgboost_model.pkl')
    
    pickle.dump((X_test, y_test), open('test_data.pkl', 'wb'))
    print("Models trained and saved.")

# Run model training
train_models()
    